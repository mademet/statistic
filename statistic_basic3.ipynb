{
  "nbformat": 4,
  "nbformat_minor": 0,
  "metadata": {
    "colab": {
      "name": "statistic_basic3.ipynb",
      "provenance": [],
      "authorship_tag": "ABX9TyPfbK/zAP103eIHPtNJw4Qt",
      "include_colab_link": true
    },
    "kernelspec": {
      "name": "python3",
      "display_name": "Python 3"
    },
    "language_info": {
      "name": "python"
    }
  },
  "cells": [
    {
      "cell_type": "markdown",
      "metadata": {
        "id": "view-in-github",
        "colab_type": "text"
      },
      "source": [
        "<a href=\"https://colab.research.google.com/github/mademet/statistic/blob/main/statistic_basic3.ipynb\" target=\"_parent\"><img src=\"https://colab.research.google.com/assets/colab-badge.svg\" alt=\"Open In Colab\"/></a>"
      ]
    },
    {
      "cell_type": "code",
      "metadata": {
        "id": "PPhtMTDMhv9d"
      },
      "source": [
        "import numpy as np"
      ],
      "execution_count": 1,
      "outputs": []
    },
    {
      "cell_type": "code",
      "metadata": {
        "id": "bJREUYluh4zc"
      },
      "source": [
        "a = [1,1,1,1,1,2,2,2,2,3,3,1,4,4,5,5,6,7,8,9,11]"
      ],
      "execution_count": 9,
      "outputs": []
    },
    {
      "cell_type": "code",
      "metadata": {
        "id": "YhAhN2nBh-nW"
      },
      "source": [
        "a1 = np.array(a)"
      ],
      "execution_count": 11,
      "outputs": []
    },
    {
      "cell_type": "code",
      "metadata": {
        "colab": {
          "base_uri": "https://localhost:8080/"
        },
        "id": "RIUUL6INiCL6",
        "outputId": "1ee7eb8a-7dec-4cae-8de9-272fc9842ee5"
      },
      "source": [
        "np.mean(a)"
      ],
      "execution_count": 10,
      "outputs": [
        {
          "output_type": "execute_result",
          "data": {
            "text/plain": [
              "3.761904761904762"
            ]
          },
          "metadata": {},
          "execution_count": 10
        }
      ]
    },
    {
      "cell_type": "code",
      "metadata": {
        "colab": {
          "base_uri": "https://localhost:8080/"
        },
        "id": "Dvj3szibiLi7",
        "outputId": "b7c6e4cf-b5dd-4e97-811d-be24d5df10d8"
      },
      "source": [
        "np.median(a)"
      ],
      "execution_count": 12,
      "outputs": [
        {
          "output_type": "execute_result",
          "data": {
            "text/plain": [
              "3.0"
            ]
          },
          "metadata": {},
          "execution_count": 12
        }
      ]
    },
    {
      "cell_type": "code",
      "metadata": {
        "id": "L4sCwzONjG_W"
      },
      "source": [
        "from scipy import stats"
      ],
      "execution_count": 14,
      "outputs": []
    },
    {
      "cell_type": "code",
      "metadata": {
        "colab": {
          "base_uri": "https://localhost:8080/"
        },
        "id": "yhDgdfvTjOw1",
        "outputId": "ea85d2ec-7f0b-4a2a-9081-ea14c731d50f"
      },
      "source": [
        "stats.mode(a)"
      ],
      "execution_count": 15,
      "outputs": [
        {
          "output_type": "execute_result",
          "data": {
            "text/plain": [
              "ModeResult(mode=array([1]), count=array([6]))"
            ]
          },
          "metadata": {},
          "execution_count": 15
        }
      ]
    },
    {
      "cell_type": "code",
      "metadata": {
        "colab": {
          "base_uri": "https://localhost:8080/"
        },
        "id": "KBD7D3fgjToy",
        "outputId": "ddf07dd0-15ca-4bb0-a96a-8e94c37db778"
      },
      "source": [
        "stats.skew()"
      ],
      "execution_count": 18,
      "outputs": [
        {
          "output_type": "execute_result",
          "data": {
            "text/plain": [
              "0.9806774613544281"
            ]
          },
          "metadata": {},
          "execution_count": 18
        }
      ]
    },
    {
      "cell_type": "markdown",
      "metadata": {
        "id": "Ip5NEkvnjtoJ"
      },
      "source": [
        "skewed right / positively skewed"
      ]
    },
    {
      "cell_type": "code",
      "metadata": {
        "id": "3zx5aXMQjvyn"
      },
      "source": [
        "import matplotlib.pyplot as plt"
      ],
      "execution_count": 19,
      "outputs": []
    },
    {
      "cell_type": "code",
      "metadata": {
        "colab": {
          "base_uri": "https://localhost:8080/",
          "height": 317
        },
        "id": "3il6hcvEj3Z2",
        "outputId": "8888e033-b73f-4e12-cfd4-ea0d46b71d39"
      },
      "source": [
        "plt.hist(a)"
      ],
      "execution_count": 20,
      "outputs": [
        {
          "output_type": "execute_result",
          "data": {
            "text/plain": [
              "(array([6., 4., 2., 2., 2., 1., 1., 1., 1., 1.]),\n",
              " array([ 1.,  2.,  3.,  4.,  5.,  6.,  7.,  8.,  9., 10., 11.]),\n",
              " <a list of 10 Patch objects>)"
            ]
          },
          "metadata": {},
          "execution_count": 20
        },
        {
          "output_type": "display_data",
          "data": {
            "image/png": "[encoded data removed]",
            "text/plain": [
              "<Figure size 432x288 with 1 Axes>"
            ]
          },
          "metadata": {
            "needs_background": "light"
          }
        }
      ]
    },
    {
      "cell_type": "code",
      "metadata": {
        "colab": {
          "base_uri": "https://localhost:8080/"
        },
        "id": "kvk_7-GTkTbY",
        "outputId": "dce03733-05ed-4bbf-ebe1-13970ef9464c"
      },
      "source": [
        "np.var(a)"
      ],
      "execution_count": 21,
      "outputs": [
        {
          "output_type": "execute_result",
          "data": {
            "text/plain": [
              "8.371882086167801"
            ]
          },
          "metadata": {},
          "execution_count": 21
        }
      ]
    },
    {
      "cell_type": "code",
      "metadata": {
        "colab": {
          "base_uri": "https://localhost:8080/"
        },
        "id": "64onO8j3kbs-",
        "outputId": "3d64451a-db69-475e-8911-01a9bdfb0592"
      },
      "source": [
        "np.std(a)"
      ],
      "execution_count": 22,
      "outputs": [
        {
          "output_type": "execute_result",
          "data": {
            "text/plain": [
              "2.89342048208825"
            ]
          },
          "metadata": {},
          "execution_count": 22
        }
      ]
    },
    {
      "cell_type": "code",
      "metadata": {
        "colab": {
          "base_uri": "https://localhost:8080/"
        },
        "id": "K8gWpGHtk5Px",
        "outputId": "120cc4fb-b5e4-4426-c907-7108bb8f6da7"
      },
      "source": [
        "np.mean(a)"
      ],
      "execution_count": 23,
      "outputs": [
        {
          "output_type": "execute_result",
          "data": {
            "text/plain": [
              "3.761904761904762"
            ]
          },
          "metadata": {},
          "execution_count": 23
        }
      ]
    }
  ]
}